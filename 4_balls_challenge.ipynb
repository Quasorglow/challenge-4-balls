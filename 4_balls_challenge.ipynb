{
  "nbformat": 4,
  "nbformat_minor": 0,
  "metadata": {
    "colab": {
      "name": "4-balls_challenge",
      "provenance": [],
      "collapsed_sections": [],
      "authorship_tag": "ABX9TyP6ZA9GW59vbv94kI7wJK4+",
      "include_colab_link": true
    },
    "kernelspec": {
      "name": "python3",
      "display_name": "Python 3"
    },
    "language_info": {
      "name": "python"
    }
  },
  "cells": [
    {
      "cell_type": "markdown",
      "metadata": {
        "id": "view-in-github",
        "colab_type": "text"
      },
      "source": [
        "<a href=\"https://colab.research.google.com/github/Quasorglow/challenge-4-balls/blob/main/4_balls_challenge.ipynb\" target=\"_parent\"><img src=\"https://colab.research.google.com/assets/colab-badge.svg\" alt=\"Open In Colab\"/></a>"
      ]
    },
    {
      "cell_type": "code",
      "source": [
        "import math\n",
        "from PIL import Image, ImageDraw"
      ],
      "metadata": {
        "id": "u-FwSiT0l7cp"
      },
      "execution_count": 38,
      "outputs": []
    },
    {
      "cell_type": "code",
      "source": [
        "class Draw:\n",
        "  def __init__(self):\n",
        "    self.width = 220\n",
        "    self.height = 150\n",
        "\n",
        "  def draw_ellipse(self,a):\n",
        "    shape = [(40, 40), (self.width - a, self.height - a)]\n",
        "    img = Image.new(\"RGB\", (self.width, self.height))\n",
        "    img1 = ImageDraw.Draw(img)  \n",
        "    img1.ellipse(shape, fill =\"white\", outline =\"white\")\n",
        "    img.show()\n",
        "    display(img)\n",
        "\n",
        "ellipse1 = Draw()\n",
        "ellipse1.draw_ellipse(30)\n",
        "\n",
        "print()\n",
        "ellipse1 = Draw()\n",
        "ellipse1.draw_ellipse(50)\n",
        "\n",
        "print()\n",
        "ellipse1 = Draw()\n",
        "ellipse1.draw_ellipse(60)\n",
        "\n",
        "print()\n",
        "ellipse1 = Draw()\n",
        "ellipse1.draw_ellipse(90)\n"
      ],
      "metadata": {
        "colab": {
          "base_uri": "https://localhost:8080/",
          "height": 669
        },
        "id": "gE8Ag9zfl9uo",
        "outputId": "ccd3d126-a7f0-4d65-f98a-8f2253e618c3"
      },
      "execution_count": 43,
      "outputs": [
        {
          "output_type": "display_data",
          "data": {
            "image/png": "[encoded data removed]",
            "text/plain": [
              "<PIL.Image.Image image mode=RGB size=220x150 at 0x7FEC6842C350>"
            ]
          },
          "metadata": {}
        },
        {
          "output_type": "stream",
          "name": "stdout",
          "text": [
            "\n"
          ]
        },
        {
          "output_type": "display_data",
          "data": {
            "image/png": "[encoded data removed]",
            "text/plain": [
              "<PIL.Image.Image image mode=RGB size=220x150 at 0x7FEC6842C110>"
            ]
          },
          "metadata": {}
        },
        {
          "output_type": "stream",
          "name": "stdout",
          "text": [
            "\n"
          ]
        },
        {
          "output_type": "display_data",
          "data": {
            "image/png": "[encoded data removed]",
            "text/plain": [
              "<PIL.Image.Image image mode=RGB size=220x150 at 0x7FEC68403BD0>"
            ]
          },
          "metadata": {}
        },
        {
          "output_type": "stream",
          "name": "stdout",
          "text": [
            "\n"
          ]
        },
        {
          "output_type": "display_data",
          "data": {
            "image/png": "[encoded data removed]",
            "text/plain": [
              "<PIL.Image.Image image mode=RGB size=220x150 at 0x7FEC6842CD90>"
            ]
          },
          "metadata": {}
        }
      ]
    },
    {
      "cell_type": "code",
      "source": [
        ""
      ],
      "metadata": {
        "id": "BJWOLIQsw_cY"
      },
      "execution_count": null,
      "outputs": []
    }
  ]
}